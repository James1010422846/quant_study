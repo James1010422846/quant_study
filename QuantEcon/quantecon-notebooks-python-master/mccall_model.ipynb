{
 "cells": [
  {
   "cell_type": "markdown",
   "metadata": {},
   "source": [
    "\n",
    "<a id='mccall'></a>\n",
    "<div id=\"qe-notebook-header\" align=\"right\" style=\"text-align:right;\">\n",
    "        <a href=\"https://quantecon.org/\" title=\"quantecon.org\">\n",
    "                <img style=\"width:250px;display:inline;\" width=\"250px\" src=\"https://assets.quantecon.org/img/qe-menubar-logo.svg\" alt=\"QuantEcon\">\n",
    "        </a>\n",
    "</div>"
   ]
  },
  {
   "cell_type": "markdown",
   "metadata": {},
   "source": [
    "# Job Search I: The McCall Search Model"
   ]
  },
  {
   "cell_type": "markdown",
   "metadata": {},
   "source": [
    "## Contents\n",
    "\n",
    "- [Job Search I: The McCall Search Model](#Job-Search-I:-The-McCall-Search-Model)  \n",
    "  - [Overview](#Overview)  \n",
    "  - [The McCall Model](#The-McCall-Model)  \n",
    "  - [Computing the Optimal Policy: Take 1](#Computing-the-Optimal-Policy:-Take-1)  \n",
    "  - [Computing the Optimal Policy: Take 2](#Computing-the-Optimal-Policy:-Take-2)  \n",
    "  - [Exercises](#Exercises)  \n",
    "  - [Solutions](#Solutions)  "
   ]
  },
  {
   "cell_type": "markdown",
   "metadata": {},
   "source": [
    "> “Questioning a McCall worker is like having a conversation with an out-of-work friend:\n",
    "> ‘Maybe you are setting your sights too high’, or ‘Why did you quit your old job before you\n",
    "> had a new one lined up?’ This is real social science: an attempt to model, to understand,\n",
    "> human behavior by visualizing the situation people find themselves in, the options they face\n",
    "> and the pros and cons as they themselves see them.” – Robert E. Lucas, Jr.\n",
    "\n",
    "\n",
    "In addition to what’s in Anaconda, this lecture will need the following libraries:"
   ]
  },
  {
   "cell_type": "code",
   "execution_count": null,
   "metadata": {
    "hide-output": true
   },
   "outputs": [],
   "source": [
    "!pip install --upgrade quantecon"
   ]
  },
  {
   "cell_type": "markdown",
   "metadata": {},
   "source": [
    "## Overview\n",
    "\n",
    "The McCall search model [[McC70]](https://lectures.quantecon.org/zreferences.html#mccall1970) helped transform economists’ way of thinking about labor markets.\n",
    "\n",
    "To clarify vague notions such as “involuntary” unemployment, McCall modeled the decision problem of unemployed agents directly, in terms of factors such as\n",
    "\n",
    "- current and likely future wages  \n",
    "- impatience  \n",
    "- unemployment compensation  \n",
    "\n",
    "\n",
    "To solve the decision problem he used dynamic programming.\n",
    "\n",
    "Here we set up McCall’s model and adopt the same solution method.\n",
    "\n",
    "As we’ll see, McCall’s model is not only interesting in its own right but also an excellent vehicle for learning dynamic programming.\n",
    "\n",
    "Let’s start with some imports:"
   ]
  },
  {
   "cell_type": "code",
   "execution_count": null,
   "metadata": {
    "hide-output": false
   },
   "outputs": [],
   "source": [
    "import numpy as np\n",
    "from numba import jit\n",
    "import matplotlib.pyplot as plt\n",
    "%matplotlib inline\n",
    "import quantecon as qe\n",
    "from quantecon.distributions import BetaBinomial"
   ]
  },
  {
   "cell_type": "markdown",
   "metadata": {},
   "source": [
    "## The McCall Model\n",
    "\n",
    "\n",
    "<a id='index-0'></a>\n",
    "An unemployed worker receives in each period a job offer at wage $ W_t $.\n",
    "\n",
    "At time $ t $, our worker has two choices:\n",
    "\n",
    "1. Accept the offer and work permanently at constant wage $ W_t $.  \n",
    "1. Reject the offer, receive unemployment compensation $ c $, and reconsider next period.  \n",
    "\n",
    "\n",
    "The wage sequence is assumed to be IID with probability mass function $ \\phi $.\n",
    "\n",
    "Thus $ \\phi (w) $ is the probability of observing wage offer $ w $ in the set $ w_1, \\ldots, w_n $.\n",
    "\n",
    "The worker is infinitely lived and aims to maximize the expected discounted sum of earnings\n",
    "\n",
    "$$\n",
    "\\mathbb{E} \\sum_{t=0}^{\\infty} \\beta^t Y_t\n",
    "$$\n",
    "\n",
    "The constant $ \\beta $ lies in $ (0, 1) $ and is called a **discount factor**.\n",
    "\n",
    "The smaller is $ \\beta $, the more the worker discounts future utility relative to current utility.\n",
    "\n",
    "The variable  $ Y_t $ is income, equal to\n",
    "\n",
    "- his wage $ W_t $ when employed  \n",
    "- unemployment compensation $ c $ when unemployed  "
   ]
  },
  {
   "cell_type": "markdown",
   "metadata": {},
   "source": [
    "### A Trade-Off\n",
    "\n",
    "The worker faces a trade-off:\n",
    "\n",
    "- Waiting too long for a good offer is costly, since the future is discounted.  \n",
    "- Accepting too early is costly, since better offers might arrive in the future.  \n",
    "\n",
    "\n",
    "To decide optimally in the face of this trade-off, we use dynamic programming.\n",
    "\n",
    "Dynamic programming can be thought of as a two-step procedure that\n",
    "\n",
    "1. first assigns values to “states” and  \n",
    "1. then deduces optimal actions given those values  \n",
    "\n",
    "\n",
    "We’ll go through these steps in turn."
   ]
  },
  {
   "cell_type": "markdown",
   "metadata": {},
   "source": [
    "### The Value Function\n",
    "\n",
    "In order to optimally trade-off current and future rewards, we need to think about two things:\n",
    "\n",
    "1. the current payoffs we get from different choices  \n",
    "1. the different states that those choices will lead to in next period (in this case, either employment or unemployment)  \n",
    "\n",
    "\n",
    "To weigh these two aspects of the decision problem, we need to assign *values* to states.\n",
    "\n",
    "To this end, let $ v^*(w) $ be the total lifetime *value* accruing to an unemployed worker who enters the current period unemployed but with wage offer $ w $ in hand.\n",
    "\n",
    "More precisely, $ v^*(w) $ denotes the value of the objective function [(1)](https://lectures.quantecon.org/mccall_model_with_separation.html#equation-objective) when an agent in this situation makes *optimal* decisions now and at all future points in time.\n",
    "\n",
    "Of course $ v^*(w) $ is not trivial to calculate because we don’t yet know what decisions are optimal and what aren’t!\n",
    "\n",
    "But think of $ v^* $ as a function that assigns to each possible wage $ w $ the maximal lifetime value that can be obtained with that offer in hand.\n",
    "\n",
    "A crucial observation is that this function $ v^* $ must satisfy the recursion\n",
    "\n",
    "\n",
    "<a id='equation-odu-pv'></a>\n",
    "$$\n",
    "v^*(w)\n",
    "= \\max \\left\\{\n",
    "        \\frac{w}{1 - \\beta}, \\, c + \\beta \\sum_{w'} v^*(w') \\phi (w')\n",
    "    \\right\\} \\tag{1}\n",
    "$$\n",
    "\n",
    "for every possible $ w $  in $ w_1, \\ldots, w_n $.\n",
    "\n",
    "This important equation is a version of the **Bellman equation**, which is\n",
    "ubiquitous in economic dynamics and other fields involving planning over time.\n",
    "\n",
    "The intuition behind it is as follows:\n",
    "\n",
    "- the first term inside the max operation is the lifetime payoff from accepting current offer $ w $, since  \n",
    "\n",
    "\n",
    "$$\n",
    "w + \\beta w + \\beta^2 w + \\cdots = \\frac{w}{1 - \\beta}\n",
    "$$\n",
    "\n",
    "- the second term inside the max operation is the **continuation value**, which is the lifetime payoff from rejecting the current offer and then behaving optimally in all subsequent periods  \n",
    "\n",
    "\n",
    "If we optimize and pick the best of these two options, we obtain maximal lifetime value from today, given current offer $ w $.\n",
    "\n",
    "But this is precisely $ v^*(w) $, which is the l.h.s. of [(1)](#equation-odu-pv)."
   ]
  },
  {
   "cell_type": "markdown",
   "metadata": {},
   "source": [
    "### The Optimal Policy\n",
    "\n",
    "Suppose for now that we are able to solve [(1)](#equation-odu-pv) for the unknown\n",
    "function $ v^* $.\n",
    "\n",
    "Once we have this function in hand we can behave optimally (i.e., make the\n",
    "right choice between accept and reject).\n",
    "\n",
    "All we have to do is select the maximal choice on the r.h.s. of [(1)](#equation-odu-pv).\n",
    "\n",
    "The optimal action is best thought of as a **policy**, which is, in general, a map from\n",
    "states to actions.\n",
    "\n",
    "In our case, the state is the current wage offer $ w $.\n",
    "\n",
    "Given *any* $ w $, we can read off the corresponding best choice (accept or\n",
    "reject) by picking the max on the r.h.s. of [(1)](#equation-odu-pv).\n",
    "\n",
    "Thus, we have a map from $ \\mathbb R $ to $ \\{0, 1\\} $, with 1 meaning accept and 0 meaning reject.\n",
    "\n",
    "We can write the policy as follows\n",
    "\n",
    "$$\n",
    "\\sigma(w) := \\mathbf{1}\n",
    "    \\left\\{\n",
    "        \\frac{w}{1 - \\beta} \\geq c + \\beta \\sum_{w'} v^*(w') \\phi (w')\n",
    "    \\right\\}\n",
    "$$\n",
    "\n",
    "Here $ \\mathbf{1}\\{ P \\} = 1 $ if statement $ P $ is true and equals 0 otherwise.\n",
    "\n",
    "We can also write this as\n",
    "\n",
    "$$\n",
    "\\sigma(w) := \\mathbf{1} \\{ w \\geq \\bar w \\}\n",
    "$$\n",
    "\n",
    "where\n",
    "\n",
    "$$\n",
    "\\bar w := (1 - \\beta) \\left\\{ c + \\beta \\sum_{w'} v^*(w') \\phi (w') \\right\\}\n",
    "$$\n",
    "\n",
    "Here $ \\bar w $ is a constant depending on $ \\beta, c $ and the wage distribution called the *reservation wage*.\n",
    "\n",
    "The agent should accept if and only if the current wage offer exceeds the reservation wage.\n",
    "\n",
    "Clearly, we can compute this reservation wage if we can compute the value function."
   ]
  },
  {
   "cell_type": "markdown",
   "metadata": {},
   "source": [
    "## Computing the Optimal Policy: Take 1\n",
    "\n",
    "To put the above ideas into action, we need to compute the value function at\n",
    "points $ w_1, \\ldots, w_n $.\n",
    "\n",
    "In doing so, we can identify these values with the vector $ v^* = (v^*_i) $ where $ v^*_i := v^*(w_i) $.\n",
    "\n",
    "In view of [(1)](#equation-odu-pv), this vector satisfies the nonlinear system of equations\n",
    "\n",
    "\n",
    "<a id='equation-odu-pv2'></a>\n",
    "$$\n",
    "v^*_i\n",
    "= \\max \\left\\{\n",
    "        \\frac{w_i}{1 - \\beta}, \\, c + \\beta \\sum_{j} v^*_j \\phi (w_j)\n",
    "    \\right\\}\n",
    "\\quad\n",
    "\\text{for } i = 1, \\ldots, n \\tag{2}\n",
    "$$"
   ]
  },
  {
   "cell_type": "markdown",
   "metadata": {},
   "source": [
    "### The Algorithm\n",
    "\n",
    "To compute this vector, we proceed as follows:\n",
    "\n",
    "Step 1: pick an arbitrary initial guess $ v \\in \\mathbb R^n $.\n",
    "\n",
    "Step 2: compute a new vector $ v' \\in \\mathbb R^n $ via\n",
    "\n",
    "\n",
    "<a id='equation-odu-pv2p'></a>\n",
    "$$\n",
    "v'_i\n",
    "= \\max \\left\\{\n",
    "        \\frac{w_i}{1 - \\beta}, \\, c + \\beta \\sum_{j} v_j \\phi (w_j)\n",
    "    \\right\\}\n",
    "\\quad\n",
    "\\text{for } i = 1, \\ldots, n \\tag{3}\n",
    "$$\n",
    "\n",
    "Step 3: calculate a measure of the deviation between $ v $ and $ v' $, such as $ \\max_i |v_i - v_i'| $.\n",
    "\n",
    "Step 4: if the deviation is larger than some fixed tolerance, set $ v = v' $ and go to step 2, else continue.\n",
    "\n",
    "Step 5: return $ v $.\n",
    "\n",
    "This algorithm returns an arbitrarily good approximation to the true solution\n",
    "to [(2)](#equation-odu-pv2), which represents the value function.\n",
    "\n",
    "(Arbitrarily good means here that the approximation converges to the true\n",
    "solution as the tolerance goes to zero)"
   ]
  },
  {
   "cell_type": "markdown",
   "metadata": {},
   "source": [
    "### The Fixed Point Theory\n",
    "\n",
    "What’s the math behind these ideas?\n",
    "\n",
    "First, one defines a mapping $ T $ from $ \\mathbb R^n $ to\n",
    "itself via\n",
    "\n",
    "\n",
    "<a id='equation-odu-pv3'></a>\n",
    "$$\n",
    "(Tv)_i\n",
    "= \\max \\left\\{\n",
    "        \\frac{w_i}{1 - \\beta}, \\, c + \\beta \\sum_{j} v_j \\phi (w_j)\n",
    "    \\right\\}\n",
    "\\quad\n",
    "\\text{for } i = 1, \\ldots, n \\tag{4}\n",
    "$$\n",
    "\n",
    "(A new vector $ Tv $ is obtained from given vector $ v $ by evaluating\n",
    "the r.h.s. at each $ i $)\n",
    "\n",
    "One can show that the conditions of the Banach contraction mapping theorem are\n",
    "satisfied by $ T $ as a self-mapping on $ \\mathbb R^n $.\n",
    "\n",
    "One implication is that $ T $ has a unique fixed point in $ \\mathbb R^n $.\n",
    "\n",
    "Moreover, it’s immediate from the definition of $ T $ that this fixed\n",
    "point is precisely the value function.\n",
    "\n",
    "The iterative algorithm presented above corresponds to iterating with\n",
    "$ T $ from some initial guess $ v $.\n",
    "\n",
    "The Banach contraction mapping theorem tells us that this iterative process\n",
    "generates a sequence that converges to the fixed point."
   ]
  },
  {
   "cell_type": "markdown",
   "metadata": {},
   "source": [
    "### Implementation\n",
    "\n",
    "Here’s the distribution of wage offers we’ll work with"
   ]
  },
  {
   "cell_type": "code",
   "execution_count": null,
   "metadata": {
    "hide-output": false
   },
   "outputs": [],
   "source": [
    "n, a, b = 50, 200, 100\n",
    "w_min, w_max = 10, 60\n",
    "w_vals = np.linspace(w_min, w_max, n+1)\n",
    "dist = BetaBinomial(n, a, b)\n",
    "ϕ_vals = dist.pdf()\n",
    "\n",
    "fig, ax = plt.subplots(figsize=(9, 6.5))\n",
    "ax.stem(w_vals, ϕ_vals, label='$\\phi (w\\')$')\n",
    "ax.set_xlabel('wages')\n",
    "ax.set_ylabel('probabilities')\n",
    "\n",
    "plt.show()"
   ]
  },
  {
   "cell_type": "markdown",
   "metadata": {},
   "source": [
    "First, let’s have a look at the sequence of approximate value functions that\n",
    "the algorithm above generates.\n",
    "\n",
    "Default parameter values are embedded in the function.\n",
    "\n",
    "Our initial guess $ v $ is the value of accepting at every given wage."
   ]
  },
  {
   "cell_type": "code",
   "execution_count": null,
   "metadata": {
    "hide-output": false
   },
   "outputs": [],
   "source": [
    "def plot_value_function_seq(ax,\n",
    "                            c=25,\n",
    "                            β=0.99,\n",
    "                            w_vals=w_vals,\n",
    "                            ϕ_vals=ϕ_vals,\n",
    "                            num_plots=6):\n",
    "\n",
    "    v = w_vals / (1 - β)\n",
    "    v_next = np.empty_like(v)\n",
    "    for i in range(num_plots):\n",
    "        ax.plot(w_vals, v, label=f\"iterate {i}\")\n",
    "        # Update guess\n",
    "        for j, w in enumerate(w_vals):\n",
    "            stop_val = w / (1 - β)\n",
    "            cont_val = c + β * np.sum(v * ϕ_vals)\n",
    "            v_next[j] = max(stop_val, cont_val)\n",
    "        v[:] = v_next\n",
    "\n",
    "    ax.legend(loc='lower right')\n",
    "\n",
    "\n",
    "fig, ax = plt.subplots(figsize=(9, 6.5))\n",
    "plot_value_function_seq(ax)\n",
    "plt.show()"
   ]
  },
  {
   "cell_type": "markdown",
   "metadata": {},
   "source": [
    "Here’s more serious iteration effort, that continues until measured deviation\n",
    "between successive iterates is below tol.\n",
    "\n",
    "We’ll be using JIT compilation via Numba to turbo charge our loops"
   ]
  },
  {
   "cell_type": "code",
   "execution_count": null,
   "metadata": {
    "hide-output": false
   },
   "outputs": [],
   "source": [
    "@jit(nopython=True)\n",
    "def compute_reservation_wage(c=25,\n",
    "                             β=0.99,\n",
    "                             w_vals=w_vals,\n",
    "                             ϕ_vals=ϕ_vals,\n",
    "                             max_iter=500,\n",
    "                             tol=1e-6):\n",
    "\n",
    "    # == First compute the value function == #\n",
    "\n",
    "    v = w_vals / (1 - β)\n",
    "    v_next = np.empty_like(v)\n",
    "    i = 0\n",
    "    error = tol + 1\n",
    "    while i < max_iter and error > tol:\n",
    "\n",
    "        for j, w in enumerate(w_vals):\n",
    "            stop_val = w / (1 - β)\n",
    "            cont_val = c + β * np.sum(v * ϕ_vals)\n",
    "            v_next[j] = max(stop_val, cont_val)\n",
    "\n",
    "        error = np.max(np.abs(v_next - v))\n",
    "        i += 1\n",
    "\n",
    "        v[:] = v_next  # copy contents into v\n",
    "\n",
    "    # == Now compute the reservation wage == #\n",
    "\n",
    "    return (1 - β) * (c + β * np.sum(v * ϕ_vals))"
   ]
  },
  {
   "cell_type": "markdown",
   "metadata": {},
   "source": [
    "Let’s compute the reservation wage at the default parameters"
   ]
  },
  {
   "cell_type": "code",
   "execution_count": null,
   "metadata": {
    "hide-output": false
   },
   "outputs": [],
   "source": [
    "compute_reservation_wage()"
   ]
  },
  {
   "cell_type": "markdown",
   "metadata": {},
   "source": [
    "### Comparative Statics\n",
    "\n",
    "Now we know how to compute the reservation wage, let’s see how it varies with\n",
    "parameters.\n",
    "\n",
    "In particular, let’s look at what happens when we change $ \\beta $ and\n",
    "$ c $."
   ]
  },
  {
   "cell_type": "code",
   "execution_count": null,
   "metadata": {
    "hide-output": false
   },
   "outputs": [],
   "source": [
    "grid_size = 25\n",
    "R = np.empty((grid_size, grid_size))\n",
    "\n",
    "c_vals = np.linspace(10.0, 30.0, grid_size)\n",
    "β_vals = np.linspace(0.9, 0.99, grid_size)\n",
    "\n",
    "for i, c in enumerate(c_vals):\n",
    "    for j, β in enumerate(β_vals):\n",
    "        R[i, j] = compute_reservation_wage(c=c, β=β)"
   ]
  },
  {
   "cell_type": "code",
   "execution_count": null,
   "metadata": {
    "hide-output": false
   },
   "outputs": [],
   "source": [
    "fig, ax = plt.subplots(figsize=(10, 5.7))\n",
    "\n",
    "cs1 = ax.contourf(c_vals, β_vals, R.T, alpha=0.75)\n",
    "ctr1 = ax.contour(c_vals, β_vals, R.T)\n",
    "\n",
    "plt.clabel(ctr1, inline=1, fontsize=13)\n",
    "plt.colorbar(cs1, ax=ax)\n",
    "\n",
    "\n",
    "ax.set_title(\"reservation wage\")\n",
    "ax.set_xlabel(\"$c$\", fontsize=16)\n",
    "ax.set_ylabel(\"$β$\", fontsize=16)\n",
    "\n",
    "ax.ticklabel_format(useOffset=False)\n",
    "\n",
    "plt.show()"
   ]
  },
  {
   "cell_type": "markdown",
   "metadata": {},
   "source": [
    "As expected, the reservation wage increases both with patience and with\n",
    "unemployment compensation."
   ]
  },
  {
   "cell_type": "markdown",
   "metadata": {},
   "source": [
    "## Computing the Optimal Policy: Take 2\n",
    "\n",
    "The approach to dynamic programming just described is very standard and\n",
    "broadly applicable.\n",
    "\n",
    "For this particular problem, there’s also an easier way, which circumvents the\n",
    "need to compute the value function.\n",
    "\n",
    "Let $ h $ denote the value of not accepting a job in this period but\n",
    "then behaving optimally in all subsequent periods.\n",
    "\n",
    "That is,\n",
    "\n",
    "\n",
    "<a id='equation-j1'></a>\n",
    "$$\n",
    "h\n",
    "= c + \\beta\n",
    "    \\sum_{w'} v^*(w') \\phi (w')\n",
    "\\quad \\tag{5}\n",
    "$$\n",
    "\n",
    "where $ v^* $ is the value function.\n",
    "\n",
    "By the Bellman equation, we then have\n",
    "\n",
    "$$\n",
    "v^*(w')\n",
    "= \\max \\left\\{ \\frac{w'}{1 - \\beta}, \\, h \\right\\}\n",
    "$$\n",
    "\n",
    "Substituting this last equation into [(5)](#equation-j1) gives\n",
    "\n",
    "\n",
    "<a id='equation-j2'></a>\n",
    "$$\n",
    "h\n",
    "= c + \\beta\n",
    "    \\sum_{w'}\n",
    "    \\max \\left\\{\n",
    "        \\frac{w'}{1 - \\beta}, h\n",
    "    \\right\\}  \\phi (w')\n",
    "\\quad \\tag{6}\n",
    "$$\n",
    "\n",
    "This is a nonlinear equation that we can solve for $ h $.\n",
    "\n",
    "The natural solution method for this kind of nonlinear equation is iterative.\n",
    "\n",
    "That is,\n",
    "\n",
    "Step 1: pick an initial guess $ h $.\n",
    "\n",
    "Step 2: compute the update $ h' $ via\n",
    "\n",
    "\n",
    "<a id='equation-j3'></a>\n",
    "$$\n",
    "h'\n",
    "= c + \\beta\n",
    "    \\sum_{w'}\n",
    "    \\max \\left\\{\n",
    "        \\frac{w'}{1 - \\beta}, h\n",
    "    \\right\\}  \\phi (w')\n",
    "\\quad \\tag{7}\n",
    "$$\n",
    "\n",
    "Step 3: calculate the deviation $ |h - h'| $.\n",
    "\n",
    "Step 4: if the deviation is larger than some fixed tolerance, set $ h = h' $ and go to step 2, else continue.\n",
    "\n",
    "Step 5: return $ h $.\n",
    "\n",
    "Once again, one can use the Banach contraction mapping theorem to show that this process always converges.\n",
    "\n",
    "The big difference here, however, is that we’re iterating on a single number, rather than an $ n $-vector.\n",
    "\n",
    "Here’s an implementation:"
   ]
  },
  {
   "cell_type": "code",
   "execution_count": null,
   "metadata": {
    "hide-output": false
   },
   "outputs": [],
   "source": [
    "@jit(nopython=True)\n",
    "def compute_reservation_wage_two(c=25,\n",
    "                                 β=0.99,\n",
    "                                 w_vals=w_vals,\n",
    "                                 ϕ_vals=ϕ_vals,\n",
    "                                 max_iter=500,\n",
    "                                 tol=1e-5):\n",
    "\n",
    "    # == First compute ϕ == #\n",
    "\n",
    "    h = np.sum(w_vals * ϕ_vals) / (1 - β)\n",
    "    i = 0\n",
    "    error = tol + 1\n",
    "    while i < max_iter and error > tol:\n",
    "\n",
    "        s = np.maximum(w_vals / (1 - β), h)\n",
    "        h_next = c + β * np.sum(s * ϕ_vals)\n",
    "\n",
    "        error = np.abs(h_next - h)\n",
    "        i += 1\n",
    "\n",
    "        h = h_next\n",
    "\n",
    "    # == Now compute the reservation wage == #\n",
    "\n",
    "    return (1 - β) * h"
   ]
  },
  {
   "cell_type": "markdown",
   "metadata": {},
   "source": [
    "You can use this code to solve the exercise below."
   ]
  },
  {
   "cell_type": "markdown",
   "metadata": {},
   "source": [
    "## Exercises"
   ]
  },
  {
   "cell_type": "markdown",
   "metadata": {},
   "source": [
    "### Exercise 1\n",
    "\n",
    "Compute the average duration of unemployment when $ \\beta=0.99 $ and\n",
    "$ c $ takes the following values\n",
    "\n",
    "> `c_vals = np.linspace(10, 40, 25)`\n",
    "\n",
    "\n",
    "That is, start the agent off as unemployed, computed their reservation wage\n",
    "given the parameters, and then simulate to see how long it takes to accept.\n",
    "\n",
    "Repeat a large number of times and take the average.\n",
    "\n",
    "Plot mean unemployment duration as a function of $ c $ in `c_vals`."
   ]
  },
  {
   "cell_type": "markdown",
   "metadata": {},
   "source": [
    "## Solutions"
   ]
  },
  {
   "cell_type": "markdown",
   "metadata": {},
   "source": [
    "### Exercise 1\n",
    "\n",
    "Here’s one solution"
   ]
  },
  {
   "cell_type": "code",
   "execution_count": null,
   "metadata": {
    "hide-output": false
   },
   "outputs": [],
   "source": [
    "cdf = np.cumsum(ϕ_vals)\n",
    "\n",
    "@jit(nopython=True)\n",
    "def compute_stopping_time(w_bar, seed=1234):\n",
    "\n",
    "    np.random.seed(seed)\n",
    "    t = 1\n",
    "    while True:\n",
    "        # Generate a wage draw\n",
    "        w = w_vals[qe.random.draw(cdf)]\n",
    "        if w >= w_bar:\n",
    "            stopping_time = t\n",
    "            break\n",
    "        else:\n",
    "            t += 1\n",
    "    return stopping_time\n",
    "\n",
    "@jit(nopython=True)\n",
    "def compute_mean_stopping_time(w_bar, num_reps=100000):\n",
    "    obs = np.empty(num_reps)\n",
    "    for i in range(num_reps):\n",
    "        obs[i] = compute_stopping_time(w_bar, seed=i)\n",
    "    return obs.mean()\n",
    "\n",
    "c_vals = np.linspace(10, 40, 25)\n",
    "stop_times = np.empty_like(c_vals)\n",
    "for i, c in enumerate(c_vals):\n",
    "    w_bar = compute_reservation_wage_two(c=c)\n",
    "    stop_times[i] = compute_mean_stopping_time(w_bar)\n",
    "\n",
    "fig, ax = plt.subplots(figsize=(9, 6.5))\n",
    "\n",
    "ax.plot(c_vals, stop_times, label=\"mean unemployment duration\")\n",
    "ax.set(xlabel=\"unemployment compensation\", ylabel=\"months\")\n",
    "ax.legend()\n",
    "\n",
    "plt.show()"
   ]
  }
 ],
 "metadata": {
  "filename": "mccall_model.rst",
  "kernelspec": {
   "display_name": "Python",
   "language": "python3",
   "name": "python3"
  },
  "title": "Job Search I: The McCall Search Model"
 },
 "nbformat": 4,
 "nbformat_minor": 2
}
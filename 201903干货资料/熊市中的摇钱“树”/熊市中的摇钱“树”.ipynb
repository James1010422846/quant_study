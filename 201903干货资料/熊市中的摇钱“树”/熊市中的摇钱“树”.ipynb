{
 "cells": [
  {
   "cell_type": "markdown",
   "metadata": {},
   "source": [
    "## **1. 导入库包**"
   ]
  },
  {
   "cell_type": "code",
   "execution_count": 1,
   "metadata": {},
   "outputs": [],
   "source": [
    "import pandas as pd \n",
    "import numpy as np\n",
    "import seaborn as sns\n",
    "import matplotlib.pyplot as plt\n",
    "import datetime\n",
    "from sklearn.model_selection import train_test_split\n",
    "from sklearn import tree\n",
    "from sklearn.metrics import confusion_matrix\n",
    "from sklearn.ensemble import RandomForestClassifier\n",
    "plt.style.use('seaborn')"
   ]
  },
  {
   "cell_type": "markdown",
   "metadata": {},
   "source": [
    "## **2. 获取数据和数据合并处理**"
   ]
  },
  {
   "cell_type": "code",
   "execution_count": 2,
   "metadata": {},
   "outputs": [
    {
     "ename": "NameError",
     "evalue": "name 'get_index_stocks' is not defined",
     "output_type": "error",
     "traceback": [
      "\u001b[0;31m---------------------------------------------------------------------------\u001b[0m",
      "\u001b[0;31mNameError\u001b[0m                                 Traceback (most recent call last)",
      "\u001b[0;32m<ipython-input-2-bcda611ad86c>\u001b[0m in \u001b[0;36m<module>\u001b[0;34m\u001b[0m\n\u001b[1;32m      5\u001b[0m \u001b[0mend_date\u001b[0m\u001b[0;34m=\u001b[0m\u001b[0mdatetime\u001b[0m\u001b[0;34m.\u001b[0m\u001b[0mdatetime\u001b[0m\u001b[0;34m.\u001b[0m\u001b[0mstrptime\u001b[0m\u001b[0;34m(\u001b[0m\u001b[0mend_date\u001b[0m\u001b[0;34m,\u001b[0m\u001b[0;34m'%Y-%m-%d'\u001b[0m\u001b[0;34m)\u001b[0m\u001b[0;34m\u001b[0m\u001b[0;34m\u001b[0m\u001b[0m\n\u001b[1;32m      6\u001b[0m \u001b[0;34m\u001b[0m\u001b[0m\n\u001b[0;32m----> 7\u001b[0;31m \u001b[0mstock_list1\u001b[0m\u001b[0;34m=\u001b[0m\u001b[0mget_index_stocks\u001b[0m\u001b[0;34m(\u001b[0m\u001b[0;34m'000300.SH'\u001b[0m\u001b[0;34m,\u001b[0m\u001b[0mstart_date\u001b[0m\u001b[0;34m)\u001b[0m\u001b[0;34m\u001b[0m\u001b[0;34m\u001b[0m\u001b[0m\n\u001b[0m\u001b[1;32m      8\u001b[0m \u001b[0mstock_list2\u001b[0m\u001b[0;34m=\u001b[0m\u001b[0mget_index_stocks\u001b[0m\u001b[0;34m(\u001b[0m\u001b[0;34m'000300.SH'\u001b[0m\u001b[0;34m,\u001b[0m\u001b[0mend_date\u001b[0m\u001b[0;34m)\u001b[0m\u001b[0;34m\u001b[0m\u001b[0;34m\u001b[0m\u001b[0m\n\u001b[1;32m      9\u001b[0m \u001b[0mstock_list\u001b[0m\u001b[0;34m=\u001b[0m\u001b[0mlist\u001b[0m\u001b[0;34m(\u001b[0m\u001b[0mset\u001b[0m\u001b[0;34m(\u001b[0m\u001b[0mstock_list1\u001b[0m\u001b[0;34m)\u001b[0m\u001b[0;34m.\u001b[0m\u001b[0mintersection\u001b[0m\u001b[0;34m(\u001b[0m\u001b[0mset\u001b[0m\u001b[0;34m(\u001b[0m\u001b[0mstock_list2\u001b[0m\u001b[0;34m)\u001b[0m\u001b[0;34m)\u001b[0m\u001b[0;34m)\u001b[0m\u001b[0;34m\u001b[0m\u001b[0;34m\u001b[0m\u001b[0m\n",
      "\u001b[0;31mNameError\u001b[0m: name 'get_index_stocks' is not defined"
     ]
    }
   ],
   "source": [
    "start_date='2017-01-01'\n",
    "end_date='2019-01-21'\n",
    "\n",
    "start_date=datetime.datetime.strptime(start_date,'%Y-%m-%d')\n",
    "end_date=datetime.datetime.strptime(end_date,'%Y-%m-%d')\n",
    "\n",
    "stock_list1=get_index_stocks('000300.SH',start_date)\n",
    "stock_list2=get_index_stocks('000300.SH',end_date)\n",
    "stock_list=list(set(stock_list1).intersection(set(stock_list2))) \n",
    "\n",
    "flag=True\n",
    "\n",
    "for stock in stock_list:\n",
    "    \n",
    "    trade_days = get_trade_days(start_date, end_date).strftime('%Y-%m-%d')\n",
    "    q = query(\n",
    "      factor.date,\n",
    "      factor.symbol,\n",
    "      #趋势性\n",
    "      factor.bbi,factor.ma,factor.expma,factor.priceosc,factor.ddi,\n",
    "      #反趋势\n",
    "      factor.bias, factor.cci,factor.dbcd,factor.dpo,factor.kdj, \n",
    "      #能量型\n",
    "      factor.arbr,factor.cr,factor.psy,factor.vr_rate,factor.wad,\n",
    "      #量价指标\n",
    "      factor.mfi,factor.obv,factor.pvt,factor.wvad,\n",
    "      #压力支撑型\n",
    "      factor.bbiboll,factor.boll,factor.cdp,factor.env,factor.mike,\n",
    "      #成交量\n",
    "      factor.vr,factor.vma,factor.vmacd,factor.vosc,factor.vstd,factor.tapi,\n",
    "      #超买超卖\n",
    "      factor.adtm,\n",
    "      #摆动类\n",
    "      factor.mi,factor.micd,factor.rc,factor.rccd,factor.srmi,\n",
    "      #强弱型\n",
    "      factor.dptb,factor.jdqs,factor.jdrs,factor.zdzb,factor.atr,factor.mass,\n",
    "      #日期类\n",
    "      factor.up_n,factor.down_n  \n",
    "    ).filter(\n",
    "      factor.symbol==stock,\n",
    "      factor.date.in_(trade_days)\n",
    "    )\n",
    "    df = get_factors(q)\n",
    "\n",
    "    for i in range(len(df['factor_symbol'])):\n",
    "        try:\n",
    "            df.ix[i,'price']=get_price(df.ix[i,'factor_symbol'], None,df.ix[i,'factor_date'], '1d', ['close'], True, None,1, is_panel=1)['close'].ix[0,0]\n",
    "        except:\n",
    "            continue\n",
    "\n",
    "    df['return']=df['price']/df['price'].shift(1)-1\n",
    "    df['next_return']=df['return'].shift(1)\n",
    "    df['mtm5']=df['price']/df['price'].shift(5)-1\n",
    "    df['next_mtm5']=df['mtm5'].shift(1)\n",
    "    df.dropna(inplace=True)\n",
    "    #print(df)    \n",
    "    \n",
    "    if flag:\n",
    "        flag=False\n",
    "        data_total=df\n",
    "    else:\n",
    "        data_total=data_total.append(df)\n",
    "\n",
    "data_total.set_index(['factor_symbol','factor_date'],inplace=True)\n"
   ]
  },
  {
   "cell_type": "code",
   "execution_count": null,
   "metadata": {},
   "outputs": [],
   "source": [
    "data_total.head()"
   ]
  },
  {
   "cell_type": "markdown",
   "metadata": {
    "collapsed": true
   },
   "source": [
    "## **3. 决策树训练数据**"
   ]
  },
  {
   "cell_type": "code",
   "execution_count": null,
   "metadata": {},
   "outputs": [],
   "source": [
    "data_total['return_flag']=np.where(data_total.next_mtm5>=.1,1,0)\n",
    "data_total['return_flag'].sum()/len(data_total)"
   ]
  },
  {
   "cell_type": "code",
   "execution_count": null,
   "metadata": {},
   "outputs": [],
   "source": [
    "x=data_total.ix[:,'factor_bbi':'factor_down_n']\n",
    "y=data_total.ix[:,'return_flag']\n",
    "x_train,x_test,y_train,y_test=train_test_split(x,y,test_size=0.2,random_state=33)\n",
    "features=x_train.columns"
   ]
  },
  {
   "cell_type": "code",
   "execution_count": null,
   "metadata": {},
   "outputs": [],
   "source": [
    "y_test.sum()/len(y_test)"
   ]
  },
  {
   "cell_type": "code",
   "execution_count": null,
   "metadata": {},
   "outputs": [],
   "source": [
    "clf=tree.DecisionTreeClassifier(criterion='gini',max_features='sqrt',max_depth=120,class_weight='balanced')\n",
    "clf.fit(x_train,y_train)"
   ]
  },
  {
   "cell_type": "markdown",
   "metadata": {},
   "source": [
    "### **3.1 评价因子数据**"
   ]
  },
  {
   "cell_type": "code",
   "execution_count": null,
   "metadata": {
    "scrolled": false
   },
   "outputs": [],
   "source": [
    "features_important=clf.feature_importances_\n",
    "features_important_df=pd.DataFrame([features,features_important],index=['feature','feature_importance']).T\n",
    "\n",
    "ind = np.arange(len(features_important_df['feature'])) \n",
    "width = 0.35 \n",
    "fig, ax = plt.subplots(figsize=(20,30))\n",
    "rects1=ax.barh(ind, features_important_df['feature_importance'], width, color='IndianRed', label='Feature_importance')\n",
    "\n",
    "plt.yticks(ind,([feature for feature in features_important_df['feature']]))\n",
    "plt.tick_params(labelsize=17)\n",
    "ax.set_title('Features_importance',size=25)\n",
    "ax.legend()\n",
    "plt.show()"
   ]
  },
  {
   "cell_type": "code",
   "execution_count": null,
   "metadata": {},
   "outputs": [],
   "source": [
    "def evaluation(clf,x_input_data,y_real_data):\n",
    "    predict=clf.predict(x_input_data)\n",
    "    compare_data=pd.DataFrame({'real_data' : y_real_data,'predict_data':predict})\n",
    "    score=clf.score(x_input_data,y_real_data)\n",
    "    print(\"The accuracy of the model is %f\"%score)\n",
    "    c=confusion_matrix(list(y_real_data), list(predict))\n",
    "    confusion_data=pd.DataFrame(c,index=['real_zero','real_one'],columns=['predict_zero','predict_one'])\n",
    "    return confusion_data"
   ]
  },
  {
   "cell_type": "markdown",
   "metadata": {},
   "source": [
    "### **3.2 样本内预测能力**"
   ]
  },
  {
   "cell_type": "code",
   "execution_count": null,
   "metadata": {},
   "outputs": [],
   "source": [
    "evaluation(clf,x_train,y_train)"
   ]
  },
  {
   "cell_type": "markdown",
   "metadata": {},
   "source": [
    "## **4. 决策树测试数据**"
   ]
  },
  {
   "cell_type": "markdown",
   "metadata": {},
   "source": [
    "### **4.1 样本外预测能力**"
   ]
  },
  {
   "cell_type": "code",
   "execution_count": null,
   "metadata": {},
   "outputs": [],
   "source": [
    "evaluation(clf,x_test,y_test)"
   ]
  },
  {
   "cell_type": "code",
   "execution_count": null,
   "metadata": {},
   "outputs": [],
   "source": [
    "predict=clf.predict(x_test)\n",
    "data_total.ix[x_test.index,'predict']=predict\n",
    "data_holding=pd.DataFrame({i:data_total.predict.groupby(level=0).apply(lambda x:x.shift(i)) for i in range(1,6)})\n",
    "data_holding['total']=data_holding.sum(axis=1)\n",
    "data_total['flag_holding']=data_holding.total>0\n",
    "\n",
    "return_data=data_total.ix[data_total.flag_holding==True,'return']\n",
    "return_cross=return_data.unstack().T\n",
    "#股票集等权选股\n",
    "df_portfolio=pd.DataFrame({'daily_return':return_cross.mean(axis=1)})\n",
    "df_portfolio.sort_index(inplace=True)\n",
    "df_portfolio['strategy_return']=(df_portfolio.daily_return+1).cumprod()\n",
    "df_portfolio.index=pd.to_datetime(df_portfolio.index)"
   ]
  },
  {
   "cell_type": "code",
   "execution_count": null,
   "metadata": {},
   "outputs": [],
   "source": [
    "df_portfolio.head(10)"
   ]
  },
  {
   "cell_type": "markdown",
   "metadata": {},
   "source": [
    "## **5. 决策树绩效展示**"
   ]
  },
  {
   "cell_type": "code",
   "execution_count": null,
   "metadata": {},
   "outputs": [],
   "source": [
    "data_300 = get_price(['000300.SH'], start_date, end_date, '1d', ['close'], True, None, is_panel=1)['close']\n",
    "data_300.columns=['close300']\n",
    "data_300['return300']=data_300['close300'].pct_change()\n",
    "data_300['net_value']=(1+data_300['return300']).cumprod()\n",
    "df_portfolio['HS300']=data_300.ix[df_portfolio.index,'net_value']\n",
    "df_portfolio[['strategy_return','HS300']].plot(figsize=(20,8))\n",
    "plt.title('Decision Tree Strategy',y=1.05,size=25)"
   ]
  },
  {
   "cell_type": "markdown",
   "metadata": {},
   "source": [
    "## **6. 随机森林训练数据**"
   ]
  },
  {
   "cell_type": "code",
   "execution_count": null,
   "metadata": {},
   "outputs": [],
   "source": [
    "clf_randomforest=RandomForestClassifier(n_estimators=20,criterion='gini',max_features='sqrt',max_depth=120,class_weight='balanced')\n",
    "clf_randomforest.fit(x_train,y_train)"
   ]
  },
  {
   "cell_type": "markdown",
   "metadata": {},
   "source": [
    "### **6.1 评价因子数据**"
   ]
  },
  {
   "cell_type": "code",
   "execution_count": null,
   "metadata": {},
   "outputs": [],
   "source": [
    "features_important=clf_randomforest.feature_importances_\n",
    "features_important_df=pd.DataFrame([features,features_important],index=['feature','feature_importance']).T\n",
    "\n",
    "ind = np.arange(len(features_important_df['feature'])) \n",
    "width = 0.35 \n",
    "fig, ax = plt.subplots(figsize=(20,30))\n",
    "rects1=ax.barh(ind, features_important_df['feature_importance'], width, color='IndianRed', label='Feature_importance')\n",
    "\n",
    "plt.yticks(ind,([feature for feature in features_important_df['feature']]))\n",
    "plt.tick_params(labelsize=17)\n",
    "ax.set_title('Features_importance',size=25)\n",
    "ax.legend()\n",
    "plt.show()"
   ]
  },
  {
   "cell_type": "code",
   "execution_count": null,
   "metadata": {},
   "outputs": [],
   "source": [
    "evaluation(clf_randomforest,x_train,y_train)"
   ]
  },
  {
   "cell_type": "code",
   "execution_count": null,
   "metadata": {},
   "outputs": [],
   "source": [
    "evaluation(clf_randomforest,x_test,y_test)"
   ]
  },
  {
   "cell_type": "markdown",
   "metadata": {},
   "source": [
    "## **7. 随机森林绩效展示**"
   ]
  },
  {
   "cell_type": "code",
   "execution_count": null,
   "metadata": {},
   "outputs": [],
   "source": [
    "predict=clf_randomforest.predict(x_test)\n",
    "data_total.ix[x_test.index,'predict']=predict\n",
    "data_holding=pd.DataFrame({i:data_total.predict.groupby(level=0).apply(lambda x:x.shift(i)) for i in range(1,6)})\n",
    "data_holding['total']=data_holding.sum(axis=1)\n",
    "data_total['flag_holding']=data_holding.total>0\n",
    "\n",
    "return_data=data_total.ix[data_total.flag_holding==True,'return']\n",
    "return_cross=return_data.unstack().T\n",
    "#股票集等权选股\n",
    "df_portfolio=pd.DataFrame({'daily_return':return_cross.mean(axis=1)})\n",
    "df_portfolio.sort_index(inplace=True)\n",
    "df_portfolio['strategy_return']=(df_portfolio.daily_return+1).cumprod()\n",
    "df_portfolio.index=pd.to_datetime(df_portfolio.index)"
   ]
  },
  {
   "cell_type": "code",
   "execution_count": null,
   "metadata": {},
   "outputs": [],
   "source": [
    "data_300 = get_price(['000300.SH'], start_date, end_date, '1d', ['close'], True, None, is_panel=1)['close']\n",
    "data_300.columns=['close300']\n",
    "data_300['return300']=data_300['close300'].pct_change()\n",
    "data_300['net_value']=(1+data_300['return300']).cumprod()\n",
    "df_portfolio['HS300']=data_300.ix[df_portfolio.index,'net_value']\n",
    "df_portfolio[['strategy_return','HS300']].plot(figsize=(20,8))\n",
    "plt.title('Random Forest Strategy',y=1.05,size=25)\n"
   ]
  },
  {
   "cell_type": "code",
   "execution_count": null,
   "metadata": {},
   "outputs": [],
   "source": []
  }
 ],
 "metadata": {
  "kernelspec": {
   "display_name": "Python 3",
   "language": "python",
   "name": "python3"
  },
  "language_info": {
   "codemirror_mode": {
    "name": "ipython",
    "version": 3
   },
   "file_extension": ".py",
   "mimetype": "text/x-python",
   "name": "python",
   "nbconvert_exporter": "python",
   "pygments_lexer": "ipython3",
   "version": "3.7.4"
  }
 },
 "nbformat": 4,
 "nbformat_minor": 2
}

{
 "cells": [
  {
   "cell_type": "markdown",
   "metadata": {},
   "source": [
    "## **一、提取数据**"
   ]
  },
  {
   "cell_type": "code",
   "execution_count": 3,
   "metadata": {},
   "outputs": [
    {
     "ename": "NameError",
     "evalue": "name 'get_index_stocks' is not defined",
     "output_type": "error",
     "traceback": [
      "\u001b[0;31m---------------------------------------------------------------------------\u001b[0m",
      "\u001b[0;31mNameError\u001b[0m                                 Traceback (most recent call last)",
      "\u001b[0;32m<ipython-input-3-44628be80965>\u001b[0m in \u001b[0;36m<module>\u001b[0;34m\u001b[0m\n\u001b[1;32m     11\u001b[0m \u001b[0mend_date\u001b[0m\u001b[0;34m=\u001b[0m\u001b[0mdatetime\u001b[0m\u001b[0;34m.\u001b[0m\u001b[0mdatetime\u001b[0m\u001b[0;34m.\u001b[0m\u001b[0mstrptime\u001b[0m\u001b[0;34m(\u001b[0m\u001b[0mend_date\u001b[0m\u001b[0;34m,\u001b[0m\u001b[0;34m'%Y-%m-%d'\u001b[0m\u001b[0;34m)\u001b[0m\u001b[0;34m+\u001b[0m\u001b[0mdatetime\u001b[0m\u001b[0;34m.\u001b[0m\u001b[0mtimedelta\u001b[0m\u001b[0;34m(\u001b[0m\u001b[0mdays\u001b[0m\u001b[0;34m=\u001b[0m\u001b[0;36m1\u001b[0m\u001b[0;34m)\u001b[0m\u001b[0;34m\u001b[0m\u001b[0;34m\u001b[0m\u001b[0m\n\u001b[1;32m     12\u001b[0m \u001b[0;34m\u001b[0m\u001b[0m\n\u001b[0;32m---> 13\u001b[0;31m \u001b[0mstock_list1\u001b[0m\u001b[0;34m=\u001b[0m\u001b[0mget_index_stocks\u001b[0m\u001b[0;34m(\u001b[0m\u001b[0;34m'000300.SH'\u001b[0m\u001b[0;34m,\u001b[0m\u001b[0mstart_date\u001b[0m\u001b[0;34m)\u001b[0m\u001b[0;34m\u001b[0m\u001b[0;34m\u001b[0m\u001b[0m\n\u001b[0m\u001b[1;32m     14\u001b[0m \u001b[0mstock_list2\u001b[0m\u001b[0;34m=\u001b[0m\u001b[0mget_index_stocks\u001b[0m\u001b[0;34m(\u001b[0m\u001b[0;34m'000300.SH'\u001b[0m\u001b[0;34m,\u001b[0m\u001b[0mend_date\u001b[0m\u001b[0;34m)\u001b[0m\u001b[0;34m\u001b[0m\u001b[0;34m\u001b[0m\u001b[0m\n\u001b[1;32m     15\u001b[0m \u001b[0mstock_list\u001b[0m\u001b[0;34m=\u001b[0m\u001b[0mlist\u001b[0m\u001b[0;34m(\u001b[0m\u001b[0mset\u001b[0m\u001b[0;34m(\u001b[0m\u001b[0mstock_list1\u001b[0m\u001b[0;34m)\u001b[0m\u001b[0;34m.\u001b[0m\u001b[0mintersection\u001b[0m\u001b[0;34m(\u001b[0m\u001b[0mset\u001b[0m\u001b[0;34m(\u001b[0m\u001b[0mstock_list2\u001b[0m\u001b[0;34m)\u001b[0m\u001b[0;34m)\u001b[0m\u001b[0;34m)\u001b[0m\u001b[0;34m\u001b[0m\u001b[0;34m\u001b[0m\u001b[0m\n",
      "\u001b[0;31mNameError\u001b[0m: name 'get_index_stocks' is not defined"
     ]
    }
   ],
   "source": [
    "import pandas as pd\n",
    "import numpy as np\n",
    "import datetime\n",
    "import matplotlib.pyplot as plt\n",
    "plt.style.use('seaborn')\n",
    "\n",
    "start_date='2018-01-10'\n",
    "end_date='2019-01-10'\n",
    "\n",
    "start_date=datetime.datetime.strptime(start_date,'%Y-%m-%d')\n",
    "end_date=datetime.datetime.strptime(end_date,'%Y-%m-%d')+datetime.timedelta(days=1)\n",
    "    \n",
    "stock_list1=get_index_stocks('000300.SH',start_date)\n",
    "stock_list2=get_index_stocks('000300.SH',end_date)\n",
    "stock_list=list(set(stock_list1).intersection(set(stock_list2))) \n",
    "#df = get_fundamentals(query(asharevalue.symbol, asharevalue.pb_mrq).filter(asharevalue.symbol.in_(stocklist)),date=start_date)\n",
    "#df = df.set_index('asharevalue_symbol')\n",
    "    \n",
    "price = get_price(stock_list, start_date,end_date, '1d', ['quote_rate'], True, None, is_panel=1)['quote_rate']\n",
    "print(price)\n",
    "\n",
    "    \n",
    "                                                        "
   ]
  },
  {
   "cell_type": "markdown",
   "metadata": {},
   "source": [
    "## **二、获取每日因子收益率**"
   ]
  },
  {
   "cell_type": "code",
   "execution_count": 2,
   "metadata": {},
   "outputs": [
    {
     "data": {
      "text/plain": [
       "array([-1.00484001,  0.62972498, -1.16946325, -2.49245642, -0.19890814,\n",
       "        0.19051704, -0.76825396,  0.09867922,  0.17386311, -0.9645638 ,\n",
       "        1.02585072,  0.28857345, -0.57885896,  0.08338763,  1.04119189,\n",
       "       -2.6161901 , -3.20911127, -0.01550025, -0.9822674 , -2.5516373 ,\n",
       "        2.34369859,  2.23938179, -0.60763779,  1.16781562, -0.46350538,\n",
       "       -0.29765282, -0.75236175, -0.60026862,  1.06718711,  1.64165773,\n",
       "        1.0355747 ,  0.73811368, -0.03581922,  0.09775101,  0.15879017,\n",
       "       -0.1926726 , -0.39136396,  0.78650045,  0.5657264 , -0.0039845 ,\n",
       "       -0.46152611, -0.68760461,  0.28538649, -0.29943236, -0.3908633 ,\n",
       "        0.22121498,  0.40373624, -2.21538381,  2.17630921,  1.42087478,\n",
       "        0.85210426, -0.24112186,  1.39104872,  0.88127721, -0.16933303,\n",
       "       -1.06727102,  0.06093629, -1.53836031, -0.30853247,  0.59239521,\n",
       "        0.54981569,  1.01811794, -0.39564507,  0.25226129, -0.50983944,\n",
       "       -0.75257345, -1.70750065, -0.12632062,  0.31378809, -0.39872486,\n",
       "        0.12895861, -0.87423384,  0.09945976,  0.04572701, -0.14132773,\n",
       "       -0.47543099,  0.04508169, -0.18409437, -0.21907426, -1.39644225,\n",
       "        0.81781268,  0.5994169 ,  0.52905352, -0.50499045,  0.70131307,\n",
       "        0.56279755, -0.0680511 ,  0.26792025, -1.07704047, -0.71420251,\n",
       "       -0.14035748, -0.75437642, -1.10975053,  0.17084654, -1.93982304,\n",
       "        0.36130822, -0.05631377, -0.1642714 , -0.20772825, -0.31357517,\n",
       "       -0.5356692 , -0.76035068,  0.03729041, -1.21346575, -3.75293304,\n",
       "        0.53920261, -1.37870742,  1.11894365,  0.50196729,  1.47340948,\n",
       "        1.09686923,  0.23147686,  0.30301764,  0.70349991,  1.71335533,\n",
       "       -0.54083956, -2.06272669, -0.42057778, -0.71270822,  0.0263863 ,\n",
       "       -0.97716939,  0.55302329, -0.49080548,  0.24471918,  0.43509178,\n",
       "       -0.48209178, -1.01703288, -0.72295616,  0.41680611,  0.45489863,\n",
       "        0.17870274,  0.62583562, -0.28976123, -1.43106513,  0.32674102,\n",
       "       -0.02115698, -1.38033708,  0.53485   , -1.28092099, -0.55118767,\n",
       "       -0.12998356, -0.09812603,  0.62986467,  0.51267399,  0.07209252,\n",
       "        0.09255906, -0.22048326, -0.39247123, -0.68187751, -0.80243095,\n",
       "        0.05370342,  0.12508438, -0.04678034, -0.38711272,  0.45731416,\n",
       "        0.22637121, -0.43477701, -0.70546694,  0.33348745,  0.25484215,\n",
       "        0.63418367,  0.27823373, -0.46608923, -0.60191644,  0.44036301,\n",
       "        0.68029178, -0.49456164, -0.88941507, -0.40525479, -0.66579041,\n",
       "       -0.14868082, -0.19473151, -1.57722877,  0.25177945, -0.52984161,\n",
       "       -1.22386547,  0.06582673,  0.72291781, -0.10017397, -0.3170411 ,\n",
       "       -3.36568482, -3.17932635, -0.50523265, -1.52582494,  0.23569237,\n",
       "        0.82142987,  0.3981874 ,  1.23471781,  1.44571857, -0.04764583,\n",
       "        0.27582858,  0.71470875,  1.46542022,  0.55368341, -0.62729643,\n",
       "       -0.02930959, -0.40611946,  1.46189115, -0.0136303 , -0.1512669 ,\n",
       "       -0.71159345,  1.09134558,  1.68240011,  1.11828375,  0.37860807,\n",
       "        0.73635514,  0.61367785, -0.63900167, -0.70071633, -0.29444572,\n",
       "        0.30406708, -1.90565349, -0.11020113,  0.51997851,  0.5234112 ,\n",
       "       -1.56473965, -0.05815718,  0.06624013, -0.05567618, -0.47458765,\n",
       "       -0.12200687,  0.22191792, -0.3535855 ,  0.18534404, -0.34314342,\n",
       "       -0.31504443, -0.83706225, -0.12148159,  0.13596171, -0.34318933,\n",
       "        1.17190416,  0.37687119, -0.13076326, -1.17908784, -0.3778973 ,\n",
       "       -0.69000946, -0.50458378,  0.67633243, -0.08483378,  0.87665405,\n",
       "        0.95962838, -0.16407027, -0.82504459,  0.0534529 , -0.10627517])"
      ]
     },
     "execution_count": 2,
     "metadata": {},
     "output_type": "execute_result"
    }
   ],
   "source": [
    "flag1=True\n",
    "while start_date<=end_date: \n",
    "    next_date=start_date+datetime.timedelta(days=1)\n",
    "    #print(next_date)\n",
    "    \n",
    "    #取全市场股票各股票市值因子\n",
    "    df = get_fundamentals(query(asharevalue.symbol, asharevalue.total_mv).filter(\\\n",
    "                        asharevalue.symbol.in_(stock_list)).order_by(asharevalue.total_mv.asc()),date=start_date)\n",
    "    df.set_index('asharevalue_symbol',inplace=True)\n",
    "    df.index.name='symbol'\n",
    "    \n",
    "    stocklist_cap_top=list(df[:int(len(df)*0.3)].index)\n",
    "    stocklist_cap_bottom=list(df[int(len(df)*0.7):].index)\n",
    "   \n",
    "    try:\n",
    "        value_top = get_price(stocklist_cap_top,None, start_date, '1d', \\\n",
    "                              ['quote_rate'],True, None,1,is_panel=1)['quote_rate']\n",
    "        return_sum_top=value_top.apply(lambda x:x.mean(),axis=1)    \n",
    "        \n",
    "        value_bottom = get_price(stocklist_cap_bottom,None, start_date, '1d', \\\n",
    "                                 ['quote_rate'], True, None,1,is_panel=1)['quote_rate']\n",
    "        return_sum_bottom=value_bottom.apply(lambda x:x.mean(),axis=1) \n",
    "        return_factor=return_sum_top-return_sum_bottom\n",
    "        \n",
    "    except:\n",
    "        \n",
    "        start_date=start_date+datetime.timedelta(days=1)\n",
    "        continue\n",
    "  \n",
    "    if flag1:\n",
    "        flag1=False\n",
    "        return_date_total_factor = return_factor\n",
    "   \n",
    "    else:\n",
    "        return_date_total_factor = return_date_total_factor.append(return_factor)\n",
    "        \n",
    "    \n",
    "    start_date=start_date+datetime.timedelta(days=1)\n",
    "return_date_total_factor_array=np.array(return_date_total_factor)\n",
    "return_date_total_factor_array"
   ]
  },
  {
   "cell_type": "markdown",
   "metadata": {},
   "source": [
    "## **三、时序回归得到每支股票的因子暴露**"
   ]
  },
  {
   "cell_type": "code",
   "execution_count": 3,
   "metadata": {},
   "outputs": [
    {
     "data": {
      "text/html": [
       "<div>\n",
       "<style>\n",
       "    .dataframe thead tr:only-child th {\n",
       "        text-align: right;\n",
       "    }\n",
       "\n",
       "    .dataframe thead th {\n",
       "        text-align: left;\n",
       "    }\n",
       "\n",
       "    .dataframe tbody tr th {\n",
       "        vertical-align: top;\n",
       "    }\n",
       "</style>\n",
       "<table border=\"1\" class=\"dataframe\">\n",
       "  <thead>\n",
       "    <tr style=\"text-align: right;\">\n",
       "      <th></th>\n",
       "      <th>intercept</th>\n",
       "      <th>coef</th>\n",
       "    </tr>\n",
       "  </thead>\n",
       "  <tbody>\n",
       "    <tr>\n",
       "      <th>600089.SH</th>\n",
       "      <td>-0.134711</td>\n",
       "      <td>-0.545668</td>\n",
       "    </tr>\n",
       "    <tr>\n",
       "      <th>603799.SH</th>\n",
       "      <td>-0.149889</td>\n",
       "      <td>-0.504071</td>\n",
       "    </tr>\n",
       "    <tr>\n",
       "      <th>300144.SZ</th>\n",
       "      <td>-0.122059</td>\n",
       "      <td>0.0627217</td>\n",
       "    </tr>\n",
       "    <tr>\n",
       "      <th>601788.SH</th>\n",
       "      <td>-0.0448587</td>\n",
       "      <td>0.698046</td>\n",
       "    </tr>\n",
       "    <tr>\n",
       "      <th>002352.SZ</th>\n",
       "      <td>-0.0179691</td>\n",
       "      <td>0.459616</td>\n",
       "    </tr>\n",
       "  </tbody>\n",
       "</table>\n",
       "</div>"
      ],
      "text/plain": [
       "           intercept       coef\n",
       "600089.SH  -0.134711  -0.545668\n",
       "603799.SH  -0.149889  -0.504071\n",
       "300144.SZ  -0.122059  0.0627217\n",
       "601788.SH -0.0448587   0.698046\n",
       "002352.SZ -0.0179691   0.459616"
      ]
     },
     "execution_count": 3,
     "metadata": {},
     "output_type": "execute_result"
    }
   ],
   "source": [
    "from sklearn.linear_model import LinearRegression\n",
    "\n",
    "stock_params = pd.DataFrame(columns = [\"intercept\", \"coef\"],index=stock_list)\n",
    "\n",
    "i=0\n",
    "\n",
    "for stock in price.columns:  \n",
    "    \n",
    "    x=return_date_total_factor_array.reshape(-1,1)\n",
    "    y=price[stock].reshape(-1,1)\n",
    "    \n",
    "    model = LinearRegression()\n",
    "    \n",
    "    try:\n",
    "        model.fit(x,y)\n",
    "    \n",
    "        stock_params.ix[i,'intercept']  = model.intercept_[0]\n",
    "        stock_params.ix[i,'coef'] = model.coef_[0][0]\n",
    "    \n",
    "    \n",
    "    except:\n",
    "        stock_params.ix[i,'intercept'] =np.nan\n",
    "        stock_params.ix[i,'coef'] =np.nan\n",
    "    \n",
    "    \n",
    "    i=i+1\n",
    "    \n",
    "stock_params.dropna(inplace=True)    \n",
    "stock_params.head()\n",
    "    \n"
   ]
  },
  {
   "cell_type": "markdown",
   "metadata": {},
   "source": [
    "** 因子暴露的概率密度分布**"
   ]
  },
  {
   "cell_type": "code",
   "execution_count": 4,
   "metadata": {},
   "outputs": [
    {
     "data": {
      "text/plain": [
       "<matplotlib.legend.Legend at 0x7ffb062d49e8>"
      ]
     },
     "execution_count": 4,
     "metadata": {},
     "output_type": "execute_result"
    },
    {
     "data": {
      "image/png": "[encoded data removed]",
      "text/plain": [
       "<matplotlib.figure.Figure at 0x7ffb0642b2e8>"
      ]
     },
     "metadata": {
      "needs_background": "light"
     },
     "output_type": "display_data"
    }
   ],
   "source": [
    "fig = plt.figure(figsize = (20, 8))\n",
    "ax = stock_params['coef'].plot.kde(label = 'Beta')\n",
    "ax.set_title('Beta',size=25)\n",
    "ax.legend()    "
   ]
  },
  {
   "cell_type": "markdown",
   "metadata": {},
   "source": [
    "## **四、 截面回归**"
   ]
  },
  {
   "cell_type": "markdown",
   "metadata": {},
   "source": [
    "** 1.先对时序时间求个股收益均值**"
   ]
  },
  {
   "cell_type": "code",
   "execution_count": 5,
   "metadata": {},
   "outputs": [
    {
     "data": {
      "text/plain": [
       "000001.SZ   -0.072040\n",
       "000002.SZ   -0.091996\n",
       "000063.SZ   -0.196550\n",
       "000069.SZ   -0.129263\n",
       "000100.SZ   -0.125031\n",
       "dtype: float64"
      ]
     },
     "execution_count": 5,
     "metadata": {},
     "output_type": "execute_result"
    }
   ],
   "source": [
    "start_date='2018-01-10'\n",
    "end_date='2019-01-10'\n",
    "\n",
    "start_date=datetime.datetime.strptime(start_date,'%Y-%m-%d')\n",
    "end_date=datetime.datetime.strptime(end_date,'%Y-%m-%d')+datetime.timedelta(days=1)\n",
    "\n",
    "stock_list2=list(stock_params.index)\n",
    "price = get_price(stock_list2, start_date,end_date, '1d', ['quote_rate'], True, None, is_panel=1)['quote_rate']\n",
    "return_df=price.apply(lambda x:x.mean(),axis=0) \n",
    "return_df.head()  "
   ]
  },
  {
   "cell_type": "code",
   "execution_count": 6,
   "metadata": {},
   "outputs": [
    {
     "data": {
      "text/html": [
       "<table class=\"simpletable\">\n",
       "<caption>OLS Regression Results</caption>\n",
       "<tr>\n",
       "  <th>Dep. Variable:</th>            <td>y</td>        <th>  R-squared:         </th> <td>   0.160</td>\n",
       "</tr>\n",
       "<tr>\n",
       "  <th>Model:</th>                   <td>OLS</td>       <th>  Adj. R-squared:    </th> <td>   0.156</td>\n",
       "</tr>\n",
       "<tr>\n",
       "  <th>Method:</th>             <td>Least Squares</td>  <th>  F-statistic:       </th> <td>   40.58</td>\n",
       "</tr>\n",
       "<tr>\n",
       "  <th>Date:</th>             <td>Tue, 19 Feb 2019</td> <th>  Prob (F-statistic):</th> <td>1.15e-09</td>\n",
       "</tr>\n",
       "<tr>\n",
       "  <th>Time:</th>                 <td>13:45:56</td>     <th>  Log-Likelihood:    </th> <td>  43.404</td>\n",
       "</tr>\n",
       "<tr>\n",
       "  <th>No. Observations:</th>      <td>   214</td>      <th>  AIC:               </th> <td>  -84.81</td>\n",
       "</tr>\n",
       "<tr>\n",
       "  <th>Df Residuals:</th>          <td>   213</td>      <th>  BIC:               </th> <td>  -81.44</td>\n",
       "</tr>\n",
       "<tr>\n",
       "  <th>Df Model:</th>              <td>     1</td>      <th>                     </th>     <td> </td>   \n",
       "</tr>\n",
       "<tr>\n",
       "  <th>Covariance Type:</th>      <td>nonrobust</td>    <th>                     </th>     <td> </td>   \n",
       "</tr>\n",
       "</table>\n",
       "<table class=\"simpletable\">\n",
       "<tr>\n",
       "   <td></td>     <th>coef</th>     <th>std err</th>      <th>t</th>      <th>P>|t|</th>  <th>[0.025</th>    <th>0.975]</th>  \n",
       "</tr>\n",
       "<tr>\n",
       "  <th>x1</th> <td>   -0.1230</td> <td>    0.019</td> <td>   -6.370</td> <td> 0.000</td> <td>   -0.161</td> <td>   -0.085</td>\n",
       "</tr>\n",
       "</table>\n",
       "<table class=\"simpletable\">\n",
       "<tr>\n",
       "  <th>Omnibus:</th>       <td>212.637</td> <th>  Durbin-Watson:     </th> <td>   1.741</td>\n",
       "</tr>\n",
       "<tr>\n",
       "  <th>Prob(Omnibus):</th> <td> 0.000</td>  <th>  Jarque-Bera (JB):  </th> <td>6681.442</td>\n",
       "</tr>\n",
       "<tr>\n",
       "  <th>Skew:</th>          <td>-3.790</td>  <th>  Prob(JB):          </th> <td>    0.00</td>\n",
       "</tr>\n",
       "<tr>\n",
       "  <th>Kurtosis:</th>      <td>29.303</td>  <th>  Cond. No.          </th> <td>    1.00</td>\n",
       "</tr>\n",
       "</table>"
      ],
      "text/plain": [
       "<class 'statsmodels.iolib.summary.Summary'>\n",
       "\"\"\"\n",
       "                            OLS Regression Results                            \n",
       "==============================================================================\n",
       "Dep. Variable:                      y   R-squared:                       0.160\n",
       "Model:                            OLS   Adj. R-squared:                  0.156\n",
       "Method:                 Least Squares   F-statistic:                     40.58\n",
       "Date:                Tue, 19 Feb 2019   Prob (F-statistic):           1.15e-09\n",
       "Time:                        13:45:56   Log-Likelihood:                 43.404\n",
       "No. Observations:                 214   AIC:                            -84.81\n",
       "Df Residuals:                     213   BIC:                            -81.44\n",
       "Df Model:                           1                                         \n",
       "Covariance Type:            nonrobust                                         \n",
       "==============================================================================\n",
       "                 coef    std err          t      P>|t|      [0.025      0.975]\n",
       "------------------------------------------------------------------------------\n",
       "x1            -0.1230      0.019     -6.370      0.000      -0.161      -0.085\n",
       "==============================================================================\n",
       "Omnibus:                      212.637   Durbin-Watson:                   1.741\n",
       "Prob(Omnibus):                  0.000   Jarque-Bera (JB):             6681.442\n",
       "Skew:                          -3.790   Prob(JB):                         0.00\n",
       "Kurtosis:                      29.303   Cond. No.                         1.00\n",
       "==============================================================================\n",
       "\n",
       "Warnings:\n",
       "[1] Standard Errors assume that the covariance matrix of the errors is correctly specified.\n",
       "\"\"\""
      ]
     },
     "execution_count": 6,
     "metadata": {},
     "output_type": "execute_result"
    }
   ],
   "source": [
    "from statsmodels import regression\n",
    "import statsmodels.api as sm\n",
    "\n",
    "stock_params['return_ave_stock']=return_df\n",
    "\n",
    "x=np.array(stock_params['coef'])\n",
    "x = x.astype(float)\n",
    "y=np.array(stock_params['return_ave_stock'])\n",
    "y = y.astype(float)\n",
    "#X = sm.add_constant(x) \n",
    "\n",
    "est=sm.OLS(y,x)\n",
    "est=est.fit()\n",
    "est.summary()"
   ]
  },
  {
   "cell_type": "markdown",
   "metadata": {},
   "source": [
    "** 因子收益率**"
   ]
  },
  {
   "cell_type": "code",
   "execution_count": 7,
   "metadata": {},
   "outputs": [
    {
     "data": {
      "text/html": [
       "<div>\n",
       "<style>\n",
       "    .dataframe thead tr:only-child th {\n",
       "        text-align: right;\n",
       "    }\n",
       "\n",
       "    .dataframe thead th {\n",
       "        text-align: left;\n",
       "    }\n",
       "\n",
       "    .dataframe tbody tr th {\n",
       "        vertical-align: top;\n",
       "    }\n",
       "</style>\n",
       "<table border=\"1\" class=\"dataframe\">\n",
       "  <thead>\n",
       "    <tr style=\"text-align: right;\">\n",
       "      <th></th>\n",
       "      <th>coef</th>\n",
       "    </tr>\n",
       "  </thead>\n",
       "  <tbody>\n",
       "    <tr>\n",
       "      <th>factor</th>\n",
       "      <td>-0.123043</td>\n",
       "    </tr>\n",
       "  </tbody>\n",
       "</table>\n",
       "</div>"
      ],
      "text/plain": [
       "            coef\n",
       "factor -0.123043"
      ]
     },
     "execution_count": 7,
     "metadata": {},
     "output_type": "execute_result"
    }
   ],
   "source": [
    "second_params2 = pd.DataFrame(columns = [\"coef\"],index=['factor'])\n",
    "\n",
    "x=stock_params['coef'].reshape(-1,1)\n",
    "y=stock_params['return_ave_stock'].reshape(-1,1)\n",
    "  \n",
    "    \n",
    "model = LinearRegression(fit_intercept=None)\n",
    "model.fit(x,y)\n",
    "\n",
    "second_params2.ix[0,'coef']=model.coef_[0][0]\n",
    "second_params2"
   ]
  },
  {
   "cell_type": "markdown",
   "metadata": {},
   "source": [
    "** 2.残差的概率密度分布**"
   ]
  },
  {
   "cell_type": "code",
   "execution_count": 10,
   "metadata": {},
   "outputs": [
    {
     "data": {
      "text/plain": [
       "<matplotlib.text.Text at 0x7ffab32d5470>"
      ]
     },
     "execution_count": 10,
     "metadata": {},
     "output_type": "execute_result"
    },
    {
     "data": {
      "image/png": "[encoded data removed]",
      "text/plain": [
       "<matplotlib.figure.Figure at 0x7ffab3331160>"
      ]
     },
     "metadata": {
      "needs_background": "light"
     },
     "output_type": "display_data"
    }
   ],
   "source": [
    "pd.Series(est.resid).plot.density(figsize = (20, 8))\n",
    "plt.title('resid_density',size=25)\n",
    "#fig = plt.figure(figsize = (20, 8))\n",
    "#ax = est.resid.plot.kde(label = 'Beta')\n",
    "#ax.set_title('Beta',size=25)\n",
    "#ax.legend()    "
   ]
  },
  {
   "cell_type": "markdown",
   "metadata": {},
   "source": [
    "** 3. 对残差进行t检验**"
   ]
  },
  {
   "cell_type": "code",
   "execution_count": 11,
   "metadata": {},
   "outputs": [
    {
     "data": {
      "text/plain": [
       "2.6693443973979867e-09"
      ]
     },
     "execution_count": 11,
     "metadata": {},
     "output_type": "execute_result"
    }
   ],
   "source": [
    "from scipy import stats\n",
    "stat_val, p_value = stats.ttest_1samp(est.resid, 0)\n",
    "p_value"
   ]
  },
  {
   "cell_type": "code",
   "execution_count": 12,
   "metadata": {},
   "outputs": [
    {
     "data": {
      "text/plain": [
       "-6.214653761619371"
      ]
     },
     "execution_count": 12,
     "metadata": {},
     "output_type": "execute_result"
    }
   ],
   "source": [
    "stat_val"
   ]
  },
  {
   "cell_type": "code",
   "execution_count": 13,
   "metadata": {},
   "outputs": [
    {
     "data": {
      "text/html": [
       "<div>\n",
       "<style>\n",
       "    .dataframe thead tr:only-child th {\n",
       "        text-align: right;\n",
       "    }\n",
       "\n",
       "    .dataframe thead th {\n",
       "        text-align: left;\n",
       "    }\n",
       "\n",
       "    .dataframe tbody tr th {\n",
       "        vertical-align: top;\n",
       "    }\n",
       "</style>\n",
       "<table border=\"1\" class=\"dataframe\">\n",
       "  <thead>\n",
       "    <tr style=\"text-align: right;\">\n",
       "      <th></th>\n",
       "      <th>stats_val</th>\n",
       "      <th>p_value</th>\n",
       "    </tr>\n",
       "  </thead>\n",
       "  <tbody>\n",
       "    <tr>\n",
       "      <th>factor_residual</th>\n",
       "      <td>-6.21465</td>\n",
       "      <td>2.66934e-09</td>\n",
       "    </tr>\n",
       "  </tbody>\n",
       "</table>\n",
       "</div>"
      ],
      "text/plain": [
       "                stats_val      p_value\n",
       "factor_residual  -6.21465  2.66934e-09"
      ]
     },
     "execution_count": 13,
     "metadata": {},
     "output_type": "execute_result"
    }
   ],
   "source": [
    "ttest_df1= pd.DataFrame(columns = [\"stats_val\",\"p_value\"],index=['factor_residual'])\n",
    "ttest_df1.ix[0,\"stats_val\"]=stat_val\n",
    "ttest_df1.ix[0,\"p_value\"]=p_value\n",
    "ttest_df1"
   ]
  },
  {
   "cell_type": "markdown",
   "metadata": {},
   "source": [
    "## **五、 截面回归下三因子模型**"
   ]
  },
  {
   "cell_type": "markdown",
   "metadata": {},
   "source": [
    "** 1.第一步，时序回归**"
   ]
  },
  {
   "cell_type": "code",
   "execution_count": 25,
   "metadata": {},
   "outputs": [],
   "source": [
    "flag1=True\n",
    "while start_date<=end_date: \n",
    "    next_date=start_date+datetime.timedelta(days=1)\n",
    "    #print(next_date)\n",
    "    \n",
    "    #取全市场股票各股票市值因子\n",
    "    df = get_fundamentals(query(asharevalue.symbol, asharevalue.total_mv).filter(\\\n",
    "                        asharevalue.symbol.in_(stock_list1)).order_by(asharevalue.total_mv.asc()),date=start_date)\n",
    "    df.set_index('asharevalue_symbol',inplace=True)\n",
    "    df.index.name='symbol'\n",
    "    \n",
    "    df2=get_fundamentals(query(asharevalue.symbol,balance.total_equity/asharevalue.total_mv).filter(\\\n",
    "                        asharevalue.symbol.in_(stock_list1)),date=start_date)\n",
    "    df2.set_index('asharevalue_symbol',inplace=True)\n",
    "    df2.index.name='symbol'\n",
    "    df2.columns=['BM']\n",
    "    df2.sort_values(by=['BM'],inplace=True)  \n",
    "    \n",
    "    stocklist_cap_top=list(df[:int(len(df)*0.3)].index)\n",
    "    stocklist_cap_bottom=list(df[int(len(df)*0.7):].index)\n",
    "    \n",
    "    stocklist_BM_bottom=list(df[:int(len(df)*0.3)].index)\n",
    "    stocklist_BM_top=list(df[int(len(df)*0.7):].index)\n",
    "    \n",
    "    \n",
    "   \n",
    "    try:\n",
    "        value_top = get_price(stocklist_cap_top,None, start_date, '1d', \\\n",
    "                              ['quote_rate'],True, None,1,is_panel=1)['quote_rate']\n",
    "        return_sum_top=value_top.apply(lambda x:x.mean(),axis=1)    \n",
    "        \n",
    "        value_bottom = get_price(stocklist_cap_bottom,None, start_date, '1d', \\\n",
    "                                 ['quote_rate'], True, None,1,is_panel=1)['quote_rate']\n",
    "        return_sum_bottom=value_bottom.apply(lambda x:x.mean(),axis=1) \n",
    "        return_factor=return_sum_top-return_sum_bottom\n",
    "        \n",
    "        \n",
    "        \n",
    "        value_top_BM = get_price(stocklist_BM_top,None, start_date, '1d', \\\n",
    "                              ['quote_rate'],True, None,1,is_panel=1)['quote_rate']\n",
    "        return_sum_top_BM=value_top_BM.apply(lambda x:x.mean(),axis=1)    \n",
    "        \n",
    "        value_bottom_BM = get_price(stocklist_BM_bottom,None, start_date, '1d', \\\n",
    "                                 ['quote_rate'], True, None,1,is_panel=1)['quote_rate']\n",
    "        return_sum_bottom_BM=value_bottom_BM.apply(lambda x:x.mean(),axis=1) \n",
    "        return_factor_BM=return_sum_top_BM-return_sum_bottom_BM\n",
    "        \n",
    "    except:\n",
    "        \n",
    "        start_date=start_date+datetime.timedelta(days=1)\n",
    "        continue\n",
    "  \n",
    "    if flag1:\n",
    "        flag1=False\n",
    "        return_date_total_factor = return_factor\n",
    "        return_date_total_factor_BM = return_factor_BM\n",
    "   \n",
    "    else:\n",
    "        return_date_total_factor = return_date_total_factor.append(return_factor)\n",
    "        return_date_total_factor_BM = return_date_total_factor_BM.append(return_factor_BM)\n",
    "        \n",
    "    start_date=start_date+datetime.timedelta(days=1)\n",
    "\n",
    "    \n",
    "start_date_market='2018-01-10'\n",
    "end_date_market='2019-01-10'\n",
    "\n",
    "start_date=datetime.datetime.strptime(start_date_market,'%Y-%m-%d')\n",
    "end_date=datetime.datetime.strptime(end_date_market,'%Y-%m-%d')+datetime.timedelta(days=1)\n",
    "return_market= get_price('000300.SH', start_date_market,end_date_market, '1d', ['quote_rate'], True, None, is_panel=1)['quote_rate']   \n",
    "\n",
    "\n",
    "return_date_total_factor_market=pd.DataFrame(return_market)    \n",
    "return_date_total_factor=pd.DataFrame(return_date_total_factor)    \n",
    "return_date_total_factor_BM=pd.DataFrame(return_date_total_factor_BM)\n",
    "\n"
   ]
  },
  {
   "cell_type": "code",
   "execution_count": 45,
   "metadata": {},
   "outputs": [
    {
     "data": {
      "text/html": [
       "<div>\n",
       "<style>\n",
       "    .dataframe thead tr:only-child th {\n",
       "        text-align: right;\n",
       "    }\n",
       "\n",
       "    .dataframe thead th {\n",
       "        text-align: left;\n",
       "    }\n",
       "\n",
       "    .dataframe tbody tr th {\n",
       "        vertical-align: top;\n",
       "    }\n",
       "</style>\n",
       "<table border=\"1\" class=\"dataframe\">\n",
       "  <thead>\n",
       "    <tr style=\"text-align: right;\">\n",
       "      <th></th>\n",
       "      <th>market_factor_return</th>\n",
       "      <th>cap_factor_return</th>\n",
       "      <th>BM_factor_return</th>\n",
       "    </tr>\n",
       "  </thead>\n",
       "  <tbody>\n",
       "    <tr>\n",
       "      <th>2018-01-10</th>\n",
       "      <td>0.4420</td>\n",
       "      <td>-1.201322</td>\n",
       "      <td>1.201322</td>\n",
       "    </tr>\n",
       "    <tr>\n",
       "      <th>2018-01-11</th>\n",
       "      <td>-0.0529</td>\n",
       "      <td>0.445029</td>\n",
       "      <td>-0.445029</td>\n",
       "    </tr>\n",
       "    <tr>\n",
       "      <th>2018-01-12</th>\n",
       "      <td>0.4616</td>\n",
       "      <td>-0.906181</td>\n",
       "      <td>0.906181</td>\n",
       "    </tr>\n",
       "    <tr>\n",
       "      <th>2018-01-15</th>\n",
       "      <td>0.0056</td>\n",
       "      <td>-2.711759</td>\n",
       "      <td>2.711759</td>\n",
       "    </tr>\n",
       "    <tr>\n",
       "      <th>2018-01-16</th>\n",
       "      <td>0.7866</td>\n",
       "      <td>-0.314921</td>\n",
       "      <td>0.314921</td>\n",
       "    </tr>\n",
       "  </tbody>\n",
       "</table>\n",
       "</div>"
      ],
      "text/plain": [
       "            market_factor_return  cap_factor_return  BM_factor_return\n",
       "2018-01-10                0.4420          -1.201322          1.201322\n",
       "2018-01-11               -0.0529           0.445029         -0.445029\n",
       "2018-01-12                0.4616          -0.906181          0.906181\n",
       "2018-01-15                0.0056          -2.711759          2.711759\n",
       "2018-01-16                0.7866          -0.314921          0.314921"
      ]
     },
     "execution_count": 45,
     "metadata": {},
     "output_type": "execute_result"
    }
   ],
   "source": [
    "return_date_total_factor_df= pd.concat([return_date_total_factor_market,return_date_total_factor,return_date_total_factor_BM],axis=1)\n",
    "\n",
    "return_date_total_factor_df.columns=['market_factor_return','cap_factor_return','BM_factor_return']\n",
    "return_date_total_factor_df.fillna(0,inplace=True)\n",
    "return_date_total_factor_df.head()"
   ]
  },
  {
   "cell_type": "code",
   "execution_count": 43,
   "metadata": {},
   "outputs": [
    {
     "data": {
      "text/html": [
       "<div>\n",
       "<style>\n",
       "    .dataframe thead tr:only-child th {\n",
       "        text-align: right;\n",
       "    }\n",
       "\n",
       "    .dataframe thead th {\n",
       "        text-align: left;\n",
       "    }\n",
       "\n",
       "    .dataframe tbody tr th {\n",
       "        vertical-align: top;\n",
       "    }\n",
       "</style>\n",
       "<table border=\"1\" class=\"dataframe\">\n",
       "  <thead>\n",
       "    <tr style=\"text-align: right;\">\n",
       "      <th></th>\n",
       "      <th>intercept</th>\n",
       "      <th>coef_market</th>\n",
       "      <th>coef_cap</th>\n",
       "      <th>coef_BM</th>\n",
       "    </tr>\n",
       "  </thead>\n",
       "  <tbody>\n",
       "    <tr>\n",
       "      <th>600089.SH</th>\n",
       "      <td>0.00757623</td>\n",
       "      <td>1.21413</td>\n",
       "      <td>-0.252623</td>\n",
       "      <td>0.252623</td>\n",
       "    </tr>\n",
       "    <tr>\n",
       "      <th>603799.SH</th>\n",
       "      <td>0.00922771</td>\n",
       "      <td>1.40295</td>\n",
       "      <td>-0.254807</td>\n",
       "      <td>0.254807</td>\n",
       "    </tr>\n",
       "    <tr>\n",
       "      <th>300144.SZ</th>\n",
       "      <td>0.0130591</td>\n",
       "      <td>1.19021</td>\n",
       "      <td>0.0108312</td>\n",
       "      <td>-0.0108312</td>\n",
       "    </tr>\n",
       "    <tr>\n",
       "      <th>601788.SH</th>\n",
       "      <td>0.0708044</td>\n",
       "      <td>0.996288</td>\n",
       "      <td>0.317518</td>\n",
       "      <td>-0.317518</td>\n",
       "    </tr>\n",
       "    <tr>\n",
       "      <th>002352.SZ</th>\n",
       "      <td>0.109118</td>\n",
       "      <td>0.873386</td>\n",
       "      <td>0.289577</td>\n",
       "      <td>-0.289577</td>\n",
       "    </tr>\n",
       "  </tbody>\n",
       "</table>\n",
       "</div>"
      ],
      "text/plain": [
       "            intercept coef_market   coef_cap    coef_BM\n",
       "600089.SH  0.00757623     1.21413  -0.252623   0.252623\n",
       "603799.SH  0.00922771     1.40295  -0.254807   0.254807\n",
       "300144.SZ   0.0130591     1.19021  0.0108312 -0.0108312\n",
       "601788.SH   0.0708044    0.996288   0.317518  -0.317518\n",
       "002352.SZ    0.109118    0.873386   0.289577  -0.289577"
      ]
     },
     "execution_count": 43,
     "metadata": {},
     "output_type": "execute_result"
    }
   ],
   "source": [
    "stock_params = pd.DataFrame(columns = [\"intercept\", \"coef_market\",\"coef_cap\",\"coef_BM\"],index=stock_list)\n",
    "\n",
    "i=0\n",
    "\n",
    "for stock in price.columns:  \n",
    "    \n",
    "    x=return_date_total_factor_df.ix[:,('market_factor_return','cap_factor_return','BM_factor_return')]\n",
    "    y=price[stock].reshape(-1,1)\n",
    "    \n",
    "    model = LinearRegression()\n",
    "    \n",
    "    try:\n",
    "        model.fit(x,y)\n",
    "    \n",
    "        stock_params.ix[i,'intercept']  = model.intercept_[0]\n",
    "        \n",
    "        stock_params.ix[i,'coef_market'] = model.coef_[0][0]\n",
    "       \n",
    "        stock_params.ix[i,'coef_cap'] = model.coef_[0][1]\n",
    "        stock_params.ix[i,'coef_BM'] = model.coef_[0][2]\n",
    "        \n",
    "    except:\n",
    "        stock_params.ix[i,'intercept'] =np.nan\n",
    "        stock_params.ix[i,'coef_market'] =np.nan\n",
    "        stock_params.ix[i,'coef_cap'] = np.nan\n",
    "        stock_params.ix[i,'coef_BM'] = np.nan\n",
    "    \n",
    "    i=i+1\n",
    "    \n",
    "stock_params.dropna(inplace=True)    \n",
    "stock_params.head()"
   ]
  },
  {
   "cell_type": "code",
   "execution_count": 65,
   "metadata": {},
   "outputs": [
    {
     "data": {
      "text/plain": [
       "<matplotlib.text.Text at 0x7ffa5104a2e8>"
      ]
     },
     "execution_count": 65,
     "metadata": {},
     "output_type": "execute_result"
    },
    {
     "data": {
      "image/png": "[encoded data removed]",
      "text/plain": [
       "<matplotlib.figure.Figure at 0x7ffa510d4ef0>"
      ]
     },
     "metadata": {
      "needs_background": "light"
     },
     "output_type": "display_data"
    }
   ],
   "source": [
    "plt.figure(figsize=(20,16))\n",
    "plt.subplot(311)\n",
    "stock_params['coef_market'].plot.kde(label = 'Beta_market',color='g')\n",
    "plt.title('Beta_market',size=25)\n",
    "\n",
    "plt.subplot(312)\n",
    "stock_params['coef_cap'].plot.kde(label = 'Beta_cap',color='r')\n",
    "plt.title('Beta_cap',size=25)\n",
    "\n",
    "plt.subplot(313)\n",
    "stock_params['coef_BM'].plot.kde(label = 'Beta_BM')\n",
    "plt.title('Beta_BM',size=25)"
   ]
  },
  {
   "cell_type": "code",
   "execution_count": 70,
   "metadata": {},
   "outputs": [
    {
     "data": {
      "text/html": [
       "<table class=\"simpletable\">\n",
       "<caption>OLS Regression Results</caption>\n",
       "<tr>\n",
       "  <th>Dep. Variable:</th>            <td>y</td>        <th>  R-squared:         </th> <td>   0.297</td>\n",
       "</tr>\n",
       "<tr>\n",
       "  <th>Model:</th>                   <td>OLS</td>       <th>  Adj. R-squared:    </th> <td>   0.288</td>\n",
       "</tr>\n",
       "<tr>\n",
       "  <th>Method:</th>             <td>Least Squares</td>  <th>  F-statistic:       </th> <td>   32.91</td>\n",
       "</tr>\n",
       "<tr>\n",
       "  <th>Date:</th>             <td>Tue, 19 Feb 2019</td> <th>  Prob (F-statistic):</th> <td>1.19e-12</td>\n",
       "</tr>\n",
       "<tr>\n",
       "  <th>Time:</th>                 <td>14:43:49</td>     <th>  Log-Likelihood:    </th> <td>  30.158</td>\n",
       "</tr>\n",
       "<tr>\n",
       "  <th>No. Observations:</th>      <td>   158</td>      <th>  AIC:               </th> <td>  -56.32</td>\n",
       "</tr>\n",
       "<tr>\n",
       "  <th>Df Residuals:</th>          <td>   156</td>      <th>  BIC:               </th> <td>  -50.19</td>\n",
       "</tr>\n",
       "<tr>\n",
       "  <th>Df Model:</th>              <td>     2</td>      <th>                     </th>     <td> </td>   \n",
       "</tr>\n",
       "<tr>\n",
       "  <th>Covariance Type:</th>      <td>nonrobust</td>    <th>                     </th>     <td> </td>   \n",
       "</tr>\n",
       "</table>\n",
       "<table class=\"simpletable\">\n",
       "<tr>\n",
       "       <td></td>          <th>coef</th>     <th>std err</th>      <th>t</th>      <th>P>|t|</th>  <th>[0.025</th>    <th>0.975]</th>  \n",
       "</tr>\n",
       "<tr>\n",
       "  <th>coef_market</th> <td>   -0.1312</td> <td>    0.018</td> <td>   -7.392</td> <td> 0.000</td> <td>   -0.166</td> <td>   -0.096</td>\n",
       "</tr>\n",
       "<tr>\n",
       "  <th>coef_cap</th>    <td>    0.0145</td> <td>    0.028</td> <td>    0.513</td> <td> 0.609</td> <td>   -0.041</td> <td>    0.071</td>\n",
       "</tr>\n",
       "<tr>\n",
       "  <th>coef_BM</th>     <td>   -0.0145</td> <td>    0.028</td> <td>   -0.513</td> <td> 0.609</td> <td>   -0.071</td> <td>    0.041</td>\n",
       "</tr>\n",
       "</table>\n",
       "<table class=\"simpletable\">\n",
       "<tr>\n",
       "  <th>Omnibus:</th>       <td>188.090</td> <th>  Durbin-Watson:     </th> <td>   2.206</td>\n",
       "</tr>\n",
       "<tr>\n",
       "  <th>Prob(Omnibus):</th> <td> 0.000</td>  <th>  Jarque-Bera (JB):  </th> <td>7028.878</td>\n",
       "</tr>\n",
       "<tr>\n",
       "  <th>Skew:</th>          <td>-4.549</td>  <th>  Prob(JB):          </th> <td>    0.00</td>\n",
       "</tr>\n",
       "<tr>\n",
       "  <th>Kurtosis:</th>      <td>34.383</td>  <th>  Cond. No.          </th> <td>3.99e+16</td>\n",
       "</tr>\n",
       "</table>"
      ],
      "text/plain": [
       "<class 'statsmodels.iolib.summary.Summary'>\n",
       "\"\"\"\n",
       "                            OLS Regression Results                            \n",
       "==============================================================================\n",
       "Dep. Variable:                      y   R-squared:                       0.297\n",
       "Model:                            OLS   Adj. R-squared:                  0.288\n",
       "Method:                 Least Squares   F-statistic:                     32.91\n",
       "Date:                Tue, 19 Feb 2019   Prob (F-statistic):           1.19e-12\n",
       "Time:                        14:43:49   Log-Likelihood:                 30.158\n",
       "No. Observations:                 158   AIC:                            -56.32\n",
       "Df Residuals:                     156   BIC:                            -50.19\n",
       "Df Model:                           2                                         \n",
       "Covariance Type:            nonrobust                                         \n",
       "===============================================================================\n",
       "                  coef    std err          t      P>|t|      [0.025      0.975]\n",
       "-------------------------------------------------------------------------------\n",
       "coef_market    -0.1312      0.018     -7.392      0.000      -0.166      -0.096\n",
       "coef_cap        0.0145      0.028      0.513      0.609      -0.041       0.071\n",
       "coef_BM        -0.0145      0.028     -0.513      0.609      -0.071       0.041\n",
       "==============================================================================\n",
       "Omnibus:                      188.090   Durbin-Watson:                   2.206\n",
       "Prob(Omnibus):                  0.000   Jarque-Bera (JB):             7028.878\n",
       "Skew:                          -4.549   Prob(JB):                         0.00\n",
       "Kurtosis:                      34.383   Cond. No.                     3.99e+16\n",
       "==============================================================================\n",
       "\n",
       "Warnings:\n",
       "[1] Standard Errors assume that the covariance matrix of the errors is correctly specified.\n",
       "[2] The smallest eigenvalue is 1.09e-31. This might indicate that there are\n",
       "strong multicollinearity problems or that the design matrix is singular.\n",
       "\"\"\""
      ]
     },
     "execution_count": 70,
     "metadata": {},
     "output_type": "execute_result"
    }
   ],
   "source": [
    "\n",
    "stock_params['return_ave_stock']=return_df\n",
    "stock_params.dropna(inplace=True)\n",
    "\n",
    "x=stock_params.ix[:,('coef_market','coef_cap','coef_BM')]\n",
    "x = x.astype(float)\n",
    "y=np.array(stock_params['return_ave_stock'])\n",
    "y = y.astype(float)\n",
    "#X = sm.add_constant(x) \n",
    "\n",
    "est=sm.OLS(y,x)\n",
    "est=est.fit()\n",
    "est.summary()"
   ]
  },
  {
   "cell_type": "markdown",
   "metadata": {},
   "source": [
    "**因子收益率**"
   ]
  },
  {
   "cell_type": "code",
   "execution_count": 74,
   "metadata": {},
   "outputs": [
    {
     "data": {
      "text/html": [
       "<div>\n",
       "<style>\n",
       "    .dataframe thead tr:only-child th {\n",
       "        text-align: right;\n",
       "    }\n",
       "\n",
       "    .dataframe thead th {\n",
       "        text-align: left;\n",
       "    }\n",
       "\n",
       "    .dataframe tbody tr th {\n",
       "        vertical-align: top;\n",
       "    }\n",
       "</style>\n",
       "<table border=\"1\" class=\"dataframe\">\n",
       "  <thead>\n",
       "    <tr style=\"text-align: right;\">\n",
       "      <th></th>\n",
       "      <th>coef_market</th>\n",
       "      <th>coef_cap</th>\n",
       "      <th>coef_BM</th>\n",
       "    </tr>\n",
       "  </thead>\n",
       "  <tbody>\n",
       "    <tr>\n",
       "      <th>factor_return</th>\n",
       "      <td>-0.131164</td>\n",
       "      <td>0.0145467</td>\n",
       "      <td>-0.0145467</td>\n",
       "    </tr>\n",
       "  </tbody>\n",
       "</table>\n",
       "</div>"
      ],
      "text/plain": [
       "              coef_market   coef_cap    coef_BM\n",
       "factor_return   -0.131164  0.0145467 -0.0145467"
      ]
     },
     "execution_count": 74,
     "metadata": {},
     "output_type": "execute_result"
    }
   ],
   "source": [
    "second_params3 = pd.DataFrame(columns = [\"coef_market\",\"coef_cap\",\"coef_BM\"],index=['factor_return'])\n",
    "x=stock_params.ix[:,('coef_market','coef_cap','coef_BM')]\n",
    "y=stock_params['return_ave_stock'].reshape(-1,1)\n",
    "  \n",
    "    \n",
    "model = LinearRegression(fit_intercept=None)\n",
    "model.fit(x,y)\n",
    "\n",
    "second_params3.ix[0,'coef_market']=model.coef_[0][0]\n",
    "second_params3.ix[0,'coef_cap']=model.coef_[0][1]\n",
    "second_params3.ix[0,'coef_BM']=model.coef_[0][2]\n",
    "second_params3"
   ]
  },
  {
   "cell_type": "code",
   "execution_count": 76,
   "metadata": {},
   "outputs": [
    {
     "data": {
      "text/plain": [
       "<matplotlib.text.Text at 0x7ffa50f83400>"
      ]
     },
     "execution_count": 76,
     "metadata": {},
     "output_type": "execute_result"
    },
    {
     "data": {
      "image/png": "[encoded data removed]",
      "text/plain": [
       "<matplotlib.figure.Figure at 0x7ffa50fbef28>"
      ]
     },
     "metadata": {
      "needs_background": "light"
     },
     "output_type": "display_data"
    }
   ],
   "source": [
    "pd.Series(est.resid).plot.density(figsize = (20, 8))\n",
    "plt.title('resid_density_3factor',size=25)"
   ]
  },
  {
   "cell_type": "code",
   "execution_count": 77,
   "metadata": {},
   "outputs": [
    {
     "data": {
      "text/html": [
       "<div>\n",
       "<style>\n",
       "    .dataframe thead tr:only-child th {\n",
       "        text-align: right;\n",
       "    }\n",
       "\n",
       "    .dataframe thead th {\n",
       "        text-align: left;\n",
       "    }\n",
       "\n",
       "    .dataframe tbody tr th {\n",
       "        vertical-align: top;\n",
       "    }\n",
       "</style>\n",
       "<table border=\"1\" class=\"dataframe\">\n",
       "  <thead>\n",
       "    <tr style=\"text-align: right;\">\n",
       "      <th></th>\n",
       "      <th>stats_val</th>\n",
       "      <th>p_value</th>\n",
       "    </tr>\n",
       "  </thead>\n",
       "  <tbody>\n",
       "    <tr>\n",
       "      <th>factor_residual</th>\n",
       "      <td>-0.461504</td>\n",
       "      <td>0.645076</td>\n",
       "    </tr>\n",
       "  </tbody>\n",
       "</table>\n",
       "</div>"
      ],
      "text/plain": [
       "                stats_val   p_value\n",
       "factor_residual -0.461504  0.645076"
      ]
     },
     "execution_count": 77,
     "metadata": {},
     "output_type": "execute_result"
    }
   ],
   "source": [
    "stat_val, p_value = stats.ttest_1samp(est.resid, 0)\n",
    "ttest_df2= pd.DataFrame(columns = [\"stats_val\",\"p_value\"],index=['factor_residual'])\n",
    "ttest_df2.ix[0,\"stats_val\"]=stat_val\n",
    "ttest_df2.ix[0,\"p_value\"]=p_value\n",
    "ttest_df2"
   ]
  },
  {
   "cell_type": "code",
   "execution_count": null,
   "metadata": {
    "collapsed": true
   },
   "outputs": [],
   "source": []
  }
 ],
 "metadata": {
  "kernelspec": {
   "display_name": "Python 3",
   "language": "python",
   "name": "python3"
  },
  "language_info": {
   "codemirror_mode": {
    "name": "ipython",
    "version": 3
   },
   "file_extension": ".py",
   "mimetype": "text/x-python",
   "name": "python",
   "nbconvert_exporter": "python",
   "pygments_lexer": "ipython3",
   "version": "3.7.4"
  }
 },
 "nbformat": 4,
 "nbformat_minor": 2
}
